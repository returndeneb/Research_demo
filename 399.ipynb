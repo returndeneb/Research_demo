{
 "cells": [
  {
   "cell_type": "code",
   "execution_count": 12,
   "metadata": {},
   "outputs": [
    {
     "name": "stdout",
     "output_type": "stream",
     "text": [
      "🚌 399번 버스 실시간 위치 정보를 조회합니다...\n",
      "\n",
      "✅ 실시간 운행 버스 목록:\n",
      "['7313', '7316', '7343', '7517', '7545']\n"
     ]
    }
   ],
   "source": [
    "import requests\n",
    "\n",
    "def get_realtime_bus_vehicles():\n",
    "    \"\"\"\n",
    "    경산시 버스정보시스템에서 399번 버스의 실시간 운행 차량 번호를 가져옵니다.\n",
    "    \"\"\"\n",
    "    \n",
    "    # 1. 이전 단계에서 확정된 요청 URL\n",
    "    request_url = 'http://its.gbgs.go.kr/bus/getBusLineNodeList/'\n",
    "    \n",
    "    # 2. 방금 찾아주신 Form Data (Payload) 정보\n",
    "    payload = {\n",
    "        'BUSLINEID': '360104000',\n",
    "        'BUSDIRECTCD': '1'\n",
    "    }\n",
    "    \n",
    "    # 3. 안정적인 요청을 위한 헤더 정보\n",
    "    headers = {\n",
    "        'Referer': 'http://its.gbgs.go.kr/'\n",
    "    }\n",
    "    \n",
    "    try:\n",
    "        # POST 방식으로 서버에 데이터를 요청하고, 응답을 JSON 형태로 받습니다.\n",
    "        response = requests.post(request_url, data=payload, headers=headers, timeout=10)\n",
    "        response.raise_for_status() # 요청 실패 시 오류 발생\n",
    "        \n",
    "        # 응답받은 데이터를 json 객체로 변환합니다.\n",
    "        data = response.json()\n",
    "        \n",
    "        vehicle_numbers = []\n",
    "        \n",
    "        # JSON 데이터 구조에 맞춰 차량번호(CARNO)를 추출합니다.\n",
    "        # 'forwardPosition'과 'reversePosition' 양방향의 버스를 모두 확인합니다.\n",
    "        for bus in data.get('result', {}).get('forwardPosition', []):\n",
    "            if 'CARNO' in bus:\n",
    "                vehicle_numbers.append(bus['CARNO'])\n",
    "                \n",
    "        for bus in data.get('result', {}).get('reversePosition', []):\n",
    "            if 'CARNO' in bus:\n",
    "                vehicle_numbers.append(bus['CARNO'])\n",
    "\n",
    "        return vehicle_numbers\n",
    "\n",
    "    except requests.exceptions.RequestException as e:\n",
    "        print(f\"오류 발생: 네트워크 요청에 실패했습니다. ({e})\")\n",
    "        return None\n",
    "    except Exception as e:\n",
    "        print(f\"오류 발생: 데이터를 처리하는 중 문제가 발생했습니다. ({e})\")\n",
    "        return None\n",
    "\n",
    "# --- 스크립트 실행 부분 ---\n",
    "if __name__ == \"__main__\":\n",
    "    print(\"🚌 399번 버스 실시간 위치 정보를 조회합니다...\")\n",
    "    running_buses = get_realtime_bus_vehicles()\n",
    "    \n",
    "    if running_buses is not None:\n",
    "        # 중복된 차량 번호를 제거하고 정렬하여 출력\n",
    "        unique_buses = sorted(list(set(running_buses)))\n",
    "        if unique_buses:\n",
    "            print(f\"\\n✅ 실시간 운행 버스 목록:\")\n",
    "            print(unique_buses)\n",
    "        else:\n",
    "            print(f\"\\n✅ 현재 운행 중인 버스가 없습니다.\")\n",
    "    else:\n",
    "        print(f\"\\n❌ 버스 정보를 가져오는데 실패했습니다.\")"
   ]
  },
  {
   "cell_type": "code",
   "execution_count": null,
   "metadata": {},
   "outputs": [],
   "source": []
  }
 ],
 "metadata": {
  "kernelspec": {
   "display_name": "Python 3",
   "language": "python",
   "name": "python3"
  },
  "language_info": {
   "codemirror_mode": {
    "name": "ipython",
    "version": 3
   },
   "file_extension": ".py",
   "mimetype": "text/x-python",
   "name": "python",
   "nbconvert_exporter": "python",
   "pygments_lexer": "ipython3",
   "version": "3.13.5"
  }
 },
 "nbformat": 4,
 "nbformat_minor": 2
}
